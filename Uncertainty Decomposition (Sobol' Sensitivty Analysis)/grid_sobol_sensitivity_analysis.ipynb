{
 "cells": [
  {
   "cell_type": "markdown",
   "metadata": {},
   "source": [
    "### ***Data Preparation***"
   ]
  },
  {
   "cell_type": "code",
   "execution_count": null,
   "metadata": {},
   "outputs": [
    {
     "name": "stderr",
     "output_type": "stream",
     "text": [
      "c:\\Users\\USER2\\anaconda3\\Lib\\site-packages\\pandas\\core\\arrays\\masked.py:60: UserWarning: Pandas requires version '1.3.6' or newer of 'bottleneck' (version '1.3.5' currently installed).\n",
      "  from pandas.core import (\n"
     ]
    }
   ],
   "source": [
    "import pandas as pd\n",
    "import glob\n",
    "import os\n",
    "\n",
    "\n",
    "folder_path = r\"folder_path_of_saved_files\"\n",
    "csv_files = glob.glob(os.path.join(folder_path, '*.csv'))\n",
    "\n",
    "dataframes = []\n",
    "\n",
    "def extract_info(filename):\n",
    "    base_name = os.path.basename(filename).replace('.csv', '')\n",
    "    parts = base_name.split('_')\n",
    "    \n",
    "    method = parts[1]\n",
    "    \n",
    "    last_part = parts[-1]\n",
    "    model_scenario = last_part.rsplit('-', 1)\n",
    "    model = model_scenario[0]\n",
    "    scenario = model_scenario[1]\n",
    "    \n",
    "    return model, scenario, method\n",
    "\n",
    "for file in csv_files:\n",
    "    df = pd.read_csv(file)\n",
    "    filename = os.path.basename(file)\n",
    "    model, scenario, method = extract_info(filename)\n",
    "    df['model'] = model\n",
    "    df['scenario'] = scenario\n",
    "    df['method'] = method\n",
    "    dataframes.append(df)"
   ]
  },
  {
   "cell_type": "code",
   "execution_count": 2,
   "metadata": {},
   "outputs": [],
   "source": [
    "for df in dataframes:\n",
    "    if 'lat_lon' in df.columns:\n",
    "        df[['lat', 'lon']] = df['lat_lon'].str.split(',', expand=True)\n",
    "        df.drop(columns='lat_lon', inplace=True)\n",
    "    if 'intercept' in df.columns:\n",
    "        df.drop(columns='intercept', inplace=True)\n",
    "    if 'Unnamed: 0' in df.columns:\n",
    "        df.drop(columns='Unnamed: 0', inplace=True)\n",
    "    if 'slope' in df.columns:\n",
    "        df.drop(columns='slope', inplace=True)"
   ]
  },
  {
   "cell_type": "code",
   "execution_count": 4,
   "metadata": {},
   "outputs": [],
   "source": [
    "grid = pd.concat(dataframes, ignore_index = True)\n",
    "grid[\"model\"].replace(\"gdfl-esm4\", \"gfdl-esm4\", inplace = True)\n",
    "grid[\"model\"].replace(\"mpi-esm1-2\", \"mpi-esm1-2-lr\", inplace = True)"
   ]
  },
  {
   "cell_type": "code",
   "execution_count": 5,
   "metadata": {},
   "outputs": [],
   "source": [
    "columns_to_convert = ['lat', 'lon']\n",
    "# Convert the specified columns to float\n",
    "grid[columns_to_convert] = grid[columns_to_convert].apply(pd.to_numeric)"
   ]
  },
  {
   "cell_type": "code",
   "execution_count": 8,
   "metadata": {},
   "outputs": [],
   "source": [
    "grid['lat_lon'] = grid['lat'].astype(str) + ',' + grid['lon'].astype(str)\n",
    "grid.drop([\"lat\", \"lon\"], axis =1, inplace = True)\n",
    "grouped_df = grid.groupby('lat_lon')"
   ]
  },
  {
   "cell_type": "markdown",
   "metadata": {},
   "source": [
    "### ***Sobol' Sensitivity Analysis***"
   ]
  },
  {
   "cell_type": "code",
   "execution_count": 10,
   "metadata": {},
   "outputs": [],
   "source": [
    "gcm = grid[\"model\"].unique()\n",
    "scenario = grid[\"scenario\"].unique()\n",
    "method = grid[\"method\"].unique()"
   ]
  },
  {
   "cell_type": "code",
   "execution_count": 11,
   "metadata": {},
   "outputs": [],
   "source": [
    "import pandas as pd \n",
    "from SALib.sample import saltelli \n",
    "from SALib.analyze import sobol\n",
    "import numpy as np \n",
    "import warnings\n",
    "\n",
    "warnings.filterwarnings(\"ignore\")"
   ]
  },
  {
   "cell_type": "code",
   "execution_count": 14,
   "metadata": {},
   "outputs": [],
   "source": [
    "problem = {\n",
    "    'num_vars' : 3,\n",
    "    'names' : [\"gcm\", \"scenario\", \"method\"],\n",
    "    'bounds': [[0,17], [0,3], [0,3]]\n",
    "}"
   ]
  },
  {
   "cell_type": "code",
   "execution_count": 15,
   "metadata": {},
   "outputs": [],
   "source": [
    "X = saltelli.sample(problem, 2048*2)\n",
    "X = X.astype(int)"
   ]
  },
  {
   "cell_type": "code",
   "execution_count": null,
   "metadata": {},
   "outputs": [],
   "source": [
    "results = []\n",
    "for i, (lat_lon, group_data) in enumerate(grouped_df):\n",
    "    group_data.drop_duplicates(inplace=True)\n",
    "    Y = np.zeros(len(X))\n",
    "    for j, x in enumerate(X):\n",
    "        g, s, m = gcm[x[0]], scenario[x[1]], method[x[2]]\n",
    "        Y[j] = group_data[(group_data.model == g) & (group_data.scenario == s) & (group_data.method == m)][\"scaling\"]\n",
    "    \n",
    "    # Perform Sobol analysis for the current group\n",
    "    Si = sobol.analyze(problem, Y, print_to_console=False)\n",
    "\n",
    "    # Append the results to the result DataFrame\n",
    "    results.append({\n",
    "        'gcm': Si['S1'][0],\n",
    "        'scenario': Si['S1'][1],\n",
    "        'method': Si['S1'][2],\n",
    "        'gcm:scenario': Si['S2'][0, 1],\n",
    "        'gcm:method': Si['S2'][0, 2],\n",
    "        'scenario:method': Si['S2'][1, 2],\n",
    "        'gcm_T': Si['ST'][0],\n",
    "        'scenario_T': Si['ST'][1],\n",
    "        'method_T': Si['ST'][2],\n",
    "        'lat_lon': lat_lon\n",
    "    })\n",
    "    if (i % 100 == 0):\n",
    "        print(\"done -> \", i)\n",
    "result_df = pd.DataFrame(results)"
   ]
  },
  {
   "cell_type": "code",
   "execution_count": 17,
   "metadata": {},
   "outputs": [],
   "source": [
    "result_df.to_csv(r\"save_pth.csv\")"
   ]
  }
 ],
 "metadata": {
  "kernelspec": {
   "display_name": "base",
   "language": "python",
   "name": "python3"
  },
  "language_info": {
   "codemirror_mode": {
    "name": "ipython",
    "version": 3
   },
   "file_extension": ".py",
   "mimetype": "text/x-python",
   "name": "python",
   "nbconvert_exporter": "python",
   "pygments_lexer": "ipython3",
   "version": "3.11.4"
  }
 },
 "nbformat": 4,
 "nbformat_minor": 2
}
