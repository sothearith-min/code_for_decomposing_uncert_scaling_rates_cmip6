{
 "cells": [
  {
   "cell_type": "markdown",
   "metadata": {},
   "source": [
    "#### ***Packages***"
   ]
  },
  {
   "cell_type": "code",
   "execution_count": null,
   "metadata": {},
   "outputs": [],
   "source": [
    "from SALib.sample import saltelli \n",
    "from SALib.analyze import sobol\n",
    "import numpy as np\n",
    "import pandas as pd\n",
    "import os"
   ]
  },
  {
   "cell_type": "markdown",
   "metadata": {},
   "source": [
    "#### ***Reading Data***"
   ]
  },
  {
   "cell_type": "code",
   "execution_count": 91,
   "metadata": {},
   "outputs": [],
   "source": [
    "bp_path = \"path_to_folder_stores_scaling_rate_from_binning_equal_sample_data_points\"\n",
    "bw_path = \"path_to_folder_stores_scaling_rate_from_binning_equal_bin_width\"\n",
    "qr_path = \"path_to_folder_stores_scaling_rate_from_quantile_regression\""
   ]
  },
  {
   "cell_type": "code",
   "execution_count": 92,
   "metadata": {},
   "outputs": [],
   "source": [
    "bp_name = [file for file in os.listdir(bp_path) if file.endswith('.csv')]\n",
    "bw_name = [file for file in os.listdir(bw_path) if file.endswith('.csv')]\n",
    "qr_name = [file for file in os.listdir(qr_path) if file.endswith('.csv')]"
   ]
  },
  {
   "cell_type": "code",
   "execution_count": 93,
   "metadata": {},
   "outputs": [],
   "source": [
    "def extract_info(filename):\n",
    "    parts = filename.split('_')\n",
    "    method = parts[1]\n",
    "    year = parts[-1].split('.')[0]\n",
    "    scenario_part = parts[-2]\n",
    "    scenario = scenario_part.split('-')[-1]\n",
    "    model = '-'.join(scenario_part.split('-')[:-1])\n",
    "    return method, model, scenario, year\n",
    "\n",
    "bp = []\n",
    "for file in bp_name:\n",
    "    df = pd.read_csv(os.path.join(bp_path, file))\n",
    "    method, model, scenario, year = extract_info(file)\n",
    "    df['method'] = method\n",
    "    df['model'] = model\n",
    "    df['scenarios'] = scenario\n",
    "    df['year'] = year\n",
    "    bp.append(df)\n",
    "bw = []\n",
    "for file in bw_name:\n",
    "    df = pd.read_csv(os.path.join(bw_path, file))\n",
    "    method, model, scenario, year = extract_info(file)\n",
    "    df['method'] = method\n",
    "    df['model'] = model\n",
    "    df['scenarios'] = scenario\n",
    "    df['year'] = year\n",
    "    bw.append(df)\n",
    "qr = []\n",
    "for file in qr_name:\n",
    "    df = pd.read_csv(os.path.join(qr_path, file))\n",
    "    method, model, scenario, year = extract_info(file)\n",
    "    df['method'] = method\n",
    "    df['model'] = model\n",
    "    df['scenarios'] = scenario\n",
    "    df['year'] = year\n",
    "    qr.append(df)"
   ]
  },
  {
   "cell_type": "code",
   "execution_count": 94,
   "metadata": {},
   "outputs": [],
   "source": [
    "bp = pd.concat(bp, ignore_index = True)\n",
    "bw = pd.concat(bw, ignore_index = True)\n",
    "qr = pd.concat(qr, ignore_index = True)"
   ]
  },
  {
   "cell_type": "code",
   "execution_count": 95,
   "metadata": {},
   "outputs": [],
   "source": [
    "df = pd.concat([bp, bw, qr], ignore_index=True)"
   ]
  },
  {
   "cell_type": "code",
   "execution_count": 96,
   "metadata": {},
   "outputs": [],
   "source": [
    "df.drop([\"Unnamed: 0\", \"slope\", \"intercept\"], axis = 1, inplace = True)"
   ]
  },
  {
   "cell_type": "code",
   "execution_count": 97,
   "metadata": {},
   "outputs": [],
   "source": [
    "df = df.pivot_table(index=['code', 'method', 'model', 'scenarios'], columns='year', values='scaling').reset_index()\n",
    "df.columns.name = None\n",
    "df.columns = [str(col) for col in df.columns]"
   ]
  },
  {
   "cell_type": "markdown",
   "metadata": {},
   "source": [
    "#### ***Prepare for Sobol' Sensitivty Analysis***"
   ]
  },
  {
   "cell_type": "code",
   "execution_count": 100,
   "metadata": {},
   "outputs": [],
   "source": [
    "gcm = df[\"model\"].unique()\n",
    "scenario = df[\"scenarios\"].unique()\n",
    "method = df[\"method\"].unique()"
   ]
  },
  {
   "cell_type": "code",
   "execution_count": 103,
   "metadata": {},
   "outputs": [
    {
     "name": "stderr",
     "output_type": "stream",
     "text": [
      "C:\\Users\\USER2\\AppData\\Local\\Temp\\ipykernel_29224\\2405040509.py:12: DeprecationWarning: `salib.sample.saltelli` will be removed in SALib 1.5. Please use `salib.sample.sobol`\n",
      "  X1 = saltelli.sample(problem, 2048*8)\n"
     ]
    }
   ],
   "source": [
    "problem = {\n",
    "    'num_vars' : 3,\n",
    "    'names' : [\"gcm\", \"scenario\", \"method\"],\n",
    "    'bounds': [[0,17], [0,3], [0,3]]\n",
    "}\n",
    "\n",
    "X1 = saltelli.sample(problem, 2048*8)\n",
    "X1 = X1.astype(int)"
   ]
  },
  {
   "cell_type": "markdown",
   "metadata": {},
   "source": [
    "#### ***Prepare for Sobol' Sensitivty Analysis***"
   ]
  },
  {
   "cell_type": "code",
   "execution_count": null,
   "metadata": {},
   "outputs": [],
   "source": [
    "uncert = {}\n",
    "for code, data in df.groupby(\"code\"):\n",
    "    print(code)\n",
    "    Y = np.zeros((len(X1), 31))\n",
    "    for i,x in enumerate(X1):\n",
    "        g,s,m = gcm[x[0]], scenario[x[1]], method[x[2]]\n",
    "        d = data[(data.model == g) & (data.scenarios == s) & (data.method == m)]\n",
    "        Y[i,:] = d.iloc[:,4:].values\n",
    "\n",
    "    d = pd.DataFrame(columns=['gcm', 'scenario', 'method', \n",
    "                                      'gcm:scenario', 'gcm:method', 'scenario:method',\n",
    "                                      'gcm_T', 'scenario_T', 'method_T'])\n",
    "    for y in range(0, 31):\n",
    "        Si = sobol.analyze(problem, Y[:,y], print_to_console=False)\n",
    "        d.loc[y, 'gcm'] = Si['S1'][0]\n",
    "        d.loc[y, 'scenario'] = Si['S1'][1]\n",
    "        d.loc[y, 'method'] = Si['S1'][2]\n",
    "        d.loc[y, 'gcm_T'] = Si['ST'][0]\n",
    "        d.loc[y, 'scenario_T'] = Si['ST'][1]\n",
    "        d.loc[y, 'method_T'] = Si['ST'][2]\n",
    "        d.loc[y, 'gcm:scenario'] = Si['S2'][0,1]\n",
    "        d.loc[y, 'gcm:method'] = Si['S2'][0,2]\n",
    "        d.loc[y, 'scenario:method'] = Si['S2'][1,2]\n",
    "    d['year'] = [y for y in range(2060,2091)]\n",
    "    uncert[code] = d"
   ]
  },
  {
   "cell_type": "markdown",
   "metadata": {},
   "source": [
    "#### ***Save as CSV files***"
   ]
  },
  {
   "cell_type": "code",
   "execution_count": 105,
   "metadata": {},
   "outputs": [],
   "source": [
    "df_list = []\n",
    "for code, df in uncert.items():\n",
    "    df['code'] = code  \n",
    "    df_list.append(df)  \n",
    "combined_df = pd.concat(df_list, ignore_index=True)\n",
    "combined_df.to_csv(r\"save_path\\file_name.csv\")"
   ]
  }
 ],
 "metadata": {
  "kernelspec": {
   "display_name": "base",
   "language": "python",
   "name": "python3"
  },
  "language_info": {
   "codemirror_mode": {
    "name": "ipython",
    "version": 3
   },
   "file_extension": ".py",
   "mimetype": "text/x-python",
   "name": "python",
   "nbconvert_exporter": "python",
   "pygments_lexer": "ipython3",
   "version": "3.11.4"
  }
 },
 "nbformat": 4,
 "nbformat_minor": 2
}
