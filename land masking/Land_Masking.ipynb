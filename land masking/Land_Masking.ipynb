{
 "cells": [
  {
   "cell_type": "code",
   "execution_count": 3,
   "metadata": {},
   "outputs": [
    {
     "name": "stderr",
     "output_type": "stream",
     "text": [
      "c:\\Users\\USER2\\anaconda3\\Lib\\site-packages\\pandas\\core\\arrays\\masked.py:60: UserWarning: Pandas requires version '1.3.6' or newer of 'bottleneck' (version '1.3.5' currently installed).\n",
      "  from pandas.core import (\n"
     ]
    }
   ],
   "source": [
    "import numpy as np \n",
    "import xarray as xr \n",
    "import pandas as pd"
   ]
  },
  {
   "cell_type": "code",
   "execution_count": 4,
   "metadata": {},
   "outputs": [],
   "source": [
    "def apply_mask(data_array, sftlf, realm):\n",
    "    \"\"\"\n",
    "    stlf is a .nc file that indicates the percentage of land area within each grid cell.\n",
    "    \"\"\"\n",
    "  \n",
    "    dset = xr.open_dataset(sftlf)\n",
    "    masked = data_array.where(dset['sftlf'].data > 50)   \n",
    "  \n",
    "    return masked"
   ]
  },
  {
   "cell_type": "code",
   "execution_count": 5,
   "metadata": {},
   "outputs": [],
   "source": [
    "def masking(file_pr, file_tas, file_hurs, sftlf_pattern, gcm, scenario):\n",
    "    pr = xr.open_mfdataset(file_pr + \"\\\\*.nc\")[\"pr\"]\n",
    "    print(\"Done Reading Pr\")\n",
    "    tas = xr.open_mfdataset(file_tas + \"\\\\*.nc\")[\"tas\"]\n",
    "    print(\"Done Reading Tas\")\n",
    "    hurs = xr.open_mfdataset(file_hurs + \"\\\\*.nc\")[\"hurs\"] \n",
    "    print(\"Done Reading Hurs\")\n",
    "    clipped_pr = apply_mask(pr, sftlf_file = sftlf_pattern )\n",
    "    clipped_pr = clipped_pr.sel(time = slice(\"2041-01-01\", \"2090-12-31\"))\n",
    "    print(\"Done Clipping Pr\")\n",
    "    clipped_tas = apply_mask(tas, sftlf_file = sftlf_pattern )\n",
    "    clipped_tas = clipped_tas.sel(time = slice(\"2041-01-01\", \"2090-12-31\"))\n",
    "    print(\"Done Clipping Tas\")\n",
    "    clipped_hurs = apply_mask(hurs, sftlf_file = sftlf_pattern )\n",
    "    clipped_hurs = clipped_hurs.sel(time = slice(\"2041-01-01\", \"2090-12-31\"))\n",
    "    print(\"Done Clipping Hurs\")\n",
    "    clipped_pr.to_netcdf(file_pr + \"\\\\land_masked_pr_\" + gcm + \"_\" + scenario + \"_\"+ \"2041-2090.nc\")\n",
    "    print(\"Done Writting pr\")\n",
    "    clipped_tas.to_netcdf(file_tas + \"\\\\land_masked_tas_\" + gcm + \"_\" + scenario + \"_\" + \"2041-2090.nc\")\n",
    "    print(\"Done Writting tas\")\n",
    "    clipped_hurs.to_netcdf(file_hurs + \"\\\\land_masked_hurs_\" + gcm + \"_\" + scenario + \"_\" + \"2041-2090.nc\")\n",
    "    print(\"Done Writting Hurs\")"
   ]
  }
 ],
 "metadata": {
  "kernelspec": {
   "display_name": "base",
   "language": "python",
   "name": "python3"
  },
  "language_info": {
   "codemirror_mode": {
    "name": "ipython",
    "version": 3
   },
   "file_extension": ".py",
   "mimetype": "text/x-python",
   "name": "python",
   "nbconvert_exporter": "python",
   "pygments_lexer": "ipython3",
   "version": "3.11.4"
  }
 },
 "nbformat": 4,
 "nbformat_minor": 2
}
