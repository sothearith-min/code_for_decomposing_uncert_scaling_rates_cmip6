{
 "cells": [
  {
   "cell_type": "markdown",
   "metadata": {},
   "source": [
    "### ***This code was used to sample the GCMs combination in each number of GCMs (As explained in Section 3.2)***"
   ]
  },
  {
   "cell_type": "markdown",
   "metadata": {},
   "source": [
    "***We use this code for each number of GCMs, so for 16 different number of GCMs, we will need to run this code for 16 times***"
   ]
  },
  {
   "cell_type": "code",
   "execution_count": null,
   "metadata": {},
   "outputs": [],
   "source": [
    "import pandas as pd \n",
    "df = pd.read_csv(r\"file path of all combination pairs in each number of GCMs\") # for example, when number of gcms is 3, then we read all the combination file of 3 GCMs (First result of section 3.2)\n",
    "filtered_dfs = {}\n",
    "\n",
    "def parse_pairs(pairs_str):\n",
    "    pairs_str = pairs_str.strip(\"()\")\n",
    "    pairs_list = [item.strip().strip(\"'\") for item in pairs_str.split(',')]\n",
    "    return pairs_list\n",
    "\n",
    "for _, row in df.iterrows():\n",
    "    models = parse_pairs(row['pairs'])\n",
    "    for model in models:\n",
    "        if model not in filtered_dfs:\n",
    "            filtered_dfs[model] = df[df['pairs'].apply(lambda x: model in parse_pairs(x))]\n",
    "\n",
    "print(filtered_dfs.keys())\n",
    "columns_to_average = ['gcm', 'scenario', 'method', 'gcm:scenario', 'gcm:method', 'scenario:method', 'gcm_T', 'scenario_T', 'method_T']\n",
    "averages_df = filtered_dfs[\"acess-cm2\"].groupby(['year', 'pairs'])[columns_to_average].mean().reset_index()\n",
    "columns_to_average = ['gcm', 'scenario', 'method', 'gcm:scenario', 'gcm:method', 'scenario:method', 'gcm_T', 'scenario_T', 'method_T']\n",
    "\n",
    "average_dict = {}\n",
    "\n",
    "for key, df in filtered_dfs.items():\n",
    "\n",
    "    averages_df = df.groupby(['code', 'pairs'])[columns_to_average].mean().reset_index()\n",
    "    \n",
    "    average_dict[key] = averages_df\n",
    "results = pd.DataFrame()\n",
    "\n",
    "for key, df in average_dict.items():\n",
    "\n",
    "    random_rows_df = df.groupby('code').apply(lambda x: x.sample(1)).reset_index(drop=True)\n",
    "    \n",
    "    random_rows_df['source_model'] = key\n",
    "    \n",
    "    results = pd.concat([results, random_rows_df], ignore_index=True)\n",
    "\n",
    "results.to_csv(r\"save_path.csv\") # we save eahc number of GCMs to a specific folder to store data to plot Fig 6 and S4"
   ]
  }
 ],
 "metadata": {
  "kernelspec": {
   "display_name": "base",
   "language": "python",
   "name": "python3"
  },
  "language_info": {
   "codemirror_mode": {
    "name": "ipython",
    "version": 3
   },
   "file_extension": ".py",
   "mimetype": "text/x-python",
   "name": "python",
   "nbconvert_exporter": "python",
   "pygments_lexer": "ipython3",
   "version": "3.11.4"
  }
 },
 "nbformat": 4,
 "nbformat_minor": 2
}
